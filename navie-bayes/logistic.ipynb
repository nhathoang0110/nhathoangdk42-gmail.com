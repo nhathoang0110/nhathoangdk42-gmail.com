{
 "cells": [
  {
   "cell_type": "code",
   "execution_count": 25,
   "metadata": {},
   "outputs": [],
   "source": [
    "from sklearn.naive_bayes import MultinomialNB\n",
    "from sklearn import metrics \n",
    "from scipy import io\n",
    "from sklearn.feature_extraction.text import CountVectorizer, TfidfVectorizer\n",
    "from sklearn.preprocessing import StandardScaler\n",
    "import numpy as np\n",
    "from numpy import log\n",
    "import pandas as pd\n",
    "from sklearn.metrics import classification_report\n",
    "import math\n",
    "from sklearn.linear_model import LogisticRegression \n",
    "from time import time"
   ]
  },
  {
   "cell_type": "code",
   "execution_count": 26,
   "metadata": {},
   "outputs": [],
   "source": [
    "sc = StandardScaler()"
   ]
  },
  {
   "cell_type": "code",
   "execution_count": 140,
   "metadata": {},
   "outputs": [],
   "source": [
    "X_train=io.mmread(\"train.mtx\") "
   ]
  },
  {
   "cell_type": "code",
   "execution_count": 141,
   "metadata": {},
   "outputs": [
    {
     "output_type": "execute_result",
     "data": {
      "text/plain": "scipy.sparse.coo.coo_matrix"
     },
     "metadata": {},
     "execution_count": 141
    }
   ],
   "source": [
    "type(X_train)"
   ]
  },
  {
   "cell_type": "code",
   "execution_count": 142,
   "metadata": {},
   "outputs": [],
   "source": [
    "X_train1=X_train.toarray()"
   ]
  },
  {
   "cell_type": "code",
   "execution_count": 30,
   "metadata": {},
   "outputs": [],
   "source": [
    "labels_train=[]\n",
    ""
   ]
  },
  {
   "cell_type": "code",
   "execution_count": 31,
   "metadata": {},
   "outputs": [],
   "source": [
    "f=open(\"labels_train.txt\",\"r\")"
   ]
  },
  {
   "cell_type": "code",
   "execution_count": 32,
   "metadata": {},
   "outputs": [],
   "source": [
    "data=f.read()\n",
    "lines=data.split(\"\\n\")\n",
    "for line in lines:\n",
    "    if(line != ' '):\n",
    "        labels_train.append(line)"
   ]
  },
  {
   "cell_type": "code",
   "execution_count": 33,
   "metadata": {},
   "outputs": [],
   "source": [
    "f.close()"
   ]
  },
  {
   "cell_type": "code",
   "execution_count": 34,
   "metadata": {},
   "outputs": [],
   "source": [
    "del labels_train[-1]"
   ]
  },
  {
   "cell_type": "code",
   "execution_count": 52,
   "metadata": {},
   "outputs": [],
   "source": [
    "aaa=LogisticRegression(max_iter=100)"
   ]
  },
  {
   "cell_type": "code",
   "execution_count": 53,
   "metadata": {},
   "outputs": [
    {
     "output_type": "execute_result",
     "data": {
      "text/plain": "LogisticRegression(C=1.0, class_weight=None, dual=False, fit_intercept=True,\n                   intercept_scaling=1, l1_ratio=None, max_iter=100,\n                   multi_class='auto', n_jobs=None, penalty='l2',\n                   random_state=None, solver='lbfgs', tol=0.0001, verbose=0,\n                   warm_start=False)"
     },
     "metadata": {},
     "execution_count": 53
    }
   ],
   "source": [
    "aaa.fit(X_train, labels_train)"
   ]
  },
  {
   "cell_type": "code",
   "execution_count": 54,
   "metadata": {},
   "outputs": [],
   "source": [
    "X_test = io.mmread(\"test.mtx\")\n",
    "y_test = []\n",
    "f = open(\"labels_test.txt\", \"r\")\n",
    ""
   ]
  },
  {
   "cell_type": "code",
   "execution_count": 55,
   "metadata": {},
   "outputs": [],
   "source": [
    "data = f.read()\n",
    "lines = data.split(\"\\n\")\n",
    "for line in lines:\n",
    "    if( line != ' '):\n",
    "        y_test.append(line)"
   ]
  },
  {
   "cell_type": "code",
   "execution_count": 56,
   "metadata": {},
   "outputs": [],
   "source": [
    "f.close()"
   ]
  },
  {
   "cell_type": "code",
   "execution_count": 57,
   "metadata": {},
   "outputs": [],
   "source": [
    "del y_test[-1]"
   ]
  },
  {
   "cell_type": "code",
   "execution_count": 58,
   "metadata": {},
   "outputs": [],
   "source": [
    "predict = aaa.predict(X_test.toarray())"
   ]
  },
  {
   "cell_type": "code",
   "execution_count": 60,
   "metadata": {},
   "outputs": [
    {
     "output_type": "execute_result",
     "data": {
      "text/plain": "0.9621707618879265"
     },
     "metadata": {},
     "execution_count": 60
    }
   ],
   "source": [
    "aaa.score(X_train,labels_train)"
   ]
  },
  {
   "cell_type": "code",
   "execution_count": 59,
   "metadata": {},
   "outputs": [
    {
     "output_type": "stream",
     "name": "stdout",
     "text": "Accuracy:  0.8117365905469994\n"
    }
   ],
   "source": [
    "print(\"Accuracy: \", metrics.accuracy_score(y_test, predict))"
   ]
  },
  {
   "cell_type": "code",
   "execution_count": 51,
   "metadata": {},
   "outputs": [
    {
     "output_type": "stream",
     "name": "stdout",
     "text": "Classification :                precision    recall  f1-score   support\n\n           0       0.68      0.85      0.76       364\n           1       0.90      0.86      0.88       396\n          10       0.71      0.78      0.74       395\n          11       0.95      0.95      0.95       399\n          12       0.82      0.94      0.88       398\n          13       0.65      0.70      0.67       392\n          14       0.80      0.88      0.84       396\n          15       1.00      0.16      0.28       310\n          16       0.89      0.68      0.77       385\n          17       0.74      0.58      0.65       389\n          18       0.77      0.35      0.49       251\n          19       0.58      0.73      0.65       393\n           2       0.74      0.80      0.77       396\n           3       0.56      0.73      0.63       319\n           4       0.70      0.71      0.70       394\n           5       0.90      0.93      0.92       397\n           6       0.77      0.86      0.81       390\n           7       0.89      0.88      0.88       376\n           8       0.78      0.90      0.83       394\n           9       0.81      0.77      0.79       398\n\n    accuracy                           0.77      7532\n   macro avg       0.78      0.75      0.75      7532\nweighted avg       0.78      0.77      0.76      7532\n\n"
    }
   ],
   "source": [
    "print(\"Classification : \", metrics.classification_report(y_test, predict))"
   ]
  },
  {
   "cell_type": "code",
   "execution_count": null,
   "metadata": {},
   "outputs": [],
   "source": []
  },
  {
   "cell_type": "code",
   "execution_count": null,
   "metadata": {},
   "outputs": [],
   "source": []
  },
  {
   "cell_type": "code",
   "execution_count": null,
   "metadata": {},
   "outputs": [],
   "source": []
  }
 ],
 "metadata": {
  "language_info": {
   "name": "python",
   "codemirror_mode": {
    "name": "ipython",
    "version": 3
   },
   "version": "3.8.1-final"
  },
  "orig_nbformat": 2,
  "file_extension": ".py",
  "mimetype": "text/x-python",
  "name": "python",
  "npconvert_exporter": "python",
  "pygments_lexer": "ipython3",
  "version": 3,
  "kernelspec": {
   "name": "python3",
   "display_name": "Python 3"
  }
 },
 "nbformat": 4,
 "nbformat_minor": 2
}