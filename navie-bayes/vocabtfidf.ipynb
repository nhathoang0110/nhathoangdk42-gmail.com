{
 "nbformat": 4,
 "nbformat_minor": 2,
 "metadata": {
  "language_info": {
   "name": "python",
   "codemirror_mode": {
    "name": "ipython",
    "version": 3
   },
   "version": "3.8.1-final"
  },
  "orig_nbformat": 2,
  "file_extension": ".py",
  "mimetype": "text/x-python",
  "name": "python",
  "npconvert_exporter": "python",
  "pygments_lexer": "ipython3",
  "version": 3,
  "kernelspec": {
   "name": "python3",
   "display_name": "Python 3"
  }
 },
 "cells": [
  {
   "cell_type": "code",
   "execution_count": 1,
   "metadata": {},
   "outputs": [],
   "source": [
    "from sklearn.feature_extraction.text import CountVectorizer, TfidfVectorizer\n",
    "from scipy import sparse, io"
   ]
  },
  {
   "cell_type": "code",
   "execution_count": 2,
   "metadata": {},
   "outputs": [],
   "source": [
    "contents_train = []\n",
    "contents_test = []\n",
    ""
   ]
  },
  {
   "cell_type": "code",
   "execution_count": 3,
   "metadata": {},
   "outputs": [],
   "source": [
    "f = open(\"train.txt\", \"r\")\n",
    "labels = \"\"\n",
    "for line in f:\n",
    "    line = line.rstrip()\n",
    "    line = line.split(\"###\")\n",
    "    contents_train.append(line[1])\n",
    "    labels = labels + line[0] + \"\\n\"\n",
    "f.close()"
   ]
  },
  {
   "cell_type": "code",
   "execution_count": 4,
   "metadata": {},
   "outputs": [],
   "source": [
    "f = open(\"test.txt\", \"r\")\n",
    "labels_test = \"\"\n",
    "for line in f:\n",
    "    line = line.rstrip()\n",
    "    line = line.split(\"###\")\n",
    "    contents_test.append(line[1])\n",
    "    labels_test = labels_test + line[0] + \"\\n\"\n",
    "f.close()"
   ]
  },
  {
   "cell_type": "code",
   "execution_count": 5,
   "metadata": {},
   "outputs": [],
   "source": [
    "contents = contents_train + contents_test"
   ]
  },
  {
   "cell_type": "code",
   "execution_count": 6,
   "metadata": {},
   "outputs": [
    {
     "output_type": "stream",
     "name": "stdout",
     "text": "18846\n11314\n"
    }
   ],
   "source": [
    "print(len(contents))\n",
    "print(len(contents_train))"
   ]
  },
  {
   "cell_type": "code",
   "execution_count": 7,
   "metadata": {},
   "outputs": [
    {
     "output_type": "stream",
     "name": "stdout",
     "text": "(18846, 10619)\n10619\n"
    }
   ],
   "source": [
    "tftidf_vectorizer= TfidfVectorizer(min_df=0.0005,max_df=0.990)\n",
    "matrix= tftidf_vectorizer.fit_transform(contents)\n",
    "print(matrix.shape)\n",
    "io.mmwrite('all.mtx',matrix)\n",
    "\n",
    "vocab=tftidf_vectorizer.get_feature_names()\n",
    "print(len(vocab))"
   ]
  },
  {
   "cell_type": "code",
   "execution_count": 8,
   "metadata": {},
   "outputs": [
    {
     "output_type": "stream",
     "name": "stdout",
     "text": "(0, 10567)\t0.08348163056446584\n  (0, 10535)\t0.06484295749957553\n  (0, 10445)\t0.06465729445946425\n  (0, 10441)\t0.028659998219658596\n  (0, 10421)\t0.03493226710951769\n  (0, 10389)\t0.10196971193676287\n  (0, 10290)\t0.07058386313378866\n  (0, 10243)\t0.07576375133527344\n  (0, 10239)\t0.04680224435926401\n  (0, 10196)\t0.04700628121861413\n  (0, 10136)\t0.0916445531695199\n  (0, 10126)\t0.0752535600173743\n  (0, 10116)\t0.086729177608603\n  (0, 10027)\t0.06770043399832873\n  (0, 9961)\t0.0907631935232935\n  (0, 9875)\t0.03681971215409021\n  (0, 9714)\t0.06915155572361033\n  (0, 9455)\t0.042936666973159926\n  (0, 9384)\t0.041760183138130874\n  (0, 9382)\t0.047759822999938466\n  (0, 9336)\t0.04888021306880637\n  (0, 9243)\t0.10123136772304524\n  (0, 9189)\t0.05038059986851896\n  (0, 9108)\t0.09936939927762557\n  (0, 9107)\t0.09553477365880764\n  :\t:\n  (11313, 5977)\t0.1525178749186861\n  (11313, 4592)\t0.1706875151972355\n  (11313, 8743)\t0.20529295570939574\n  (11313, 1408)\t0.2017261353103153\n  (11313, 1727)\t0.16285215238771658\n  (11313, 5862)\t0.14104517461841515\n  (11313, 8862)\t0.13485640902937762\n  (11313, 7966)\t0.17332931057444098\n  (11313, 8324)\t0.16067321403012919\n  (11313, 293)\t0.19040359046102756\n  (11313, 9407)\t0.13786669128006906\n  (11313, 3190)\t0.15098085199123487\n  (11313, 7615)\t0.1469585614155466\n  (11313, 3388)\t0.1063250116632907\n  (11313, 8746)\t0.1560400351200403\n  (11313, 9992)\t0.12092700624143891\n  (11313, 7045)\t0.11934131445016442\n  (11313, 2525)\t0.1223200779077141\n  (11313, 1052)\t0.15374346631981645\n  (11313, 9710)\t0.10066132254946794\n  (11313, 8298)\t0.1473633327528454\n  (11313, 5448)\t0.09342083626374338\n  (11313, 7077)\t0.10183247193333274\n  (11313, 5596)\t0.08635612301957372\n  (11313, 279)\t0.08718897057311173\n"
    }
   ],
   "source": [
    "matrix1=matrix[0:11314,:]\n",
    "print(matrix1)"
   ]
  },
  {
   "cell_type": "code",
   "execution_count": 9,
   "metadata": {},
   "outputs": [],
   "source": [
    "io.mmwrite(\"train.mtx\",matrix1)"
   ]
  },
  {
   "cell_type": "code",
   "execution_count": 10,
   "metadata": {},
   "outputs": [
    {
     "output_type": "stream",
     "name": "stdout",
     "text": "(0, 2108)\t0.15446523361300496\n  (0, 7831)\t0.11779921599765736\n  (0, 10393)\t0.17606274389181417\n  (0, 10228)\t0.1573450006144745\n  (0, 9618)\t0.15658691096550115\n  (0, 4591)\t0.12118695037043153\n  (0, 3007)\t0.16825219602610628\n  (0, 2751)\t0.17258047344815192\n  (0, 2744)\t0.16825219602610628\n  (0, 2427)\t0.17258047344815192\n  (0, 1657)\t0.14716520517148224\n  (0, 588)\t0.17103568032566716\n  (0, 6193)\t0.14967971583072004\n  (0, 5213)\t0.1075720989272982\n  (0, 10312)\t0.1049755680593933\n  (0, 10197)\t0.11768373000751553\n  (0, 10159)\t0.1669884656052953\n  (0, 5845)\t0.09544601772526112\n  (0, 9843)\t0.10189684349814859\n  (0, 559)\t0.12078217711038809\n  (0, 2683)\t0.1032926236658707\n  (0, 9935)\t0.11498680016270565\n  (0, 1016)\t0.14915196187235516\n  (0, 827)\t0.12750408064377702\n  (0, 3782)\t0.09912011067003229\n  :\t:\n  (7531, 2053)\t0.0631234826807015\n  (7531, 880)\t0.05612542371445183\n  (7531, 9516)\t0.0794593178518777\n  (7531, 8879)\t0.05361933146867358\n  (7531, 5481)\t0.08056480356697564\n  (7531, 5389)\t0.06812167612931701\n  (7531, 10535)\t0.0672439650905173\n  (7531, 10445)\t0.06705142731202496\n  (7531, 10441)\t0.02972122176551905\n  (7531, 10421)\t0.036225740475523655\n  (7531, 10126)\t0.07804005180945968\n  (7531, 9875)\t0.038183073909741794\n  (7531, 9455)\t0.044526527573410475\n  (7531, 9189)\t0.05224609470997967\n  (7531, 9092)\t0.057271967263363976\n  (7531, 8927)\t0.055959807459760084\n  (7531, 8872)\t0.059168944681920424\n  (7531, 8336)\t0.06336830866246076\n  (7531, 7878)\t0.052051082855194414\n  (7531, 6560)\t0.035877183468053894\n  (7531, 3788)\t0.039635538786619\n  (7531, 3236)\t0.0810554881872572\n  (7531, 2680)\t0.04107818033153187\n  (7531, 525)\t0.03307895977242744\n  (7531, 80)\t0.06062543388652642\n"
    }
   ],
   "source": [
    "matrix2=matrix[11314:, :]\n",
    "print(matrix2)"
   ]
  },
  {
   "cell_type": "code",
   "execution_count": 11,
   "metadata": {},
   "outputs": [],
   "source": [
    "io.mmwrite(\"test.mtx\", matrix2)"
   ]
  },
  {
   "cell_type": "code",
   "execution_count": 12,
   "metadata": {},
   "outputs": [],
   "source": [
    "f = open(\"vocab.txt\", \"w+\")\n",
    "voc=\"\"\n",
    "for i in vocab:\n",
    "    i = i + '\\n'\n",
    "    voc = voc + i\n",
    "\n",
    "f.write(voc)\n",
    "\n",
    "f.close()"
   ]
  }
 ]
}