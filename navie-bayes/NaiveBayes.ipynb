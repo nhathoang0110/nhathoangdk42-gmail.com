{
 "nbformat": 4,
 "nbformat_minor": 2,
 "metadata": {
  "language_info": {
   "name": "python",
   "codemirror_mode": {
    "name": "ipython",
    "version": 3
   },
   "version": "3.8.1-final"
  },
  "orig_nbformat": 2,
  "file_extension": ".py",
  "mimetype": "text/x-python",
  "name": "python",
  "npconvert_exporter": "python",
  "pygments_lexer": "ipython3",
  "version": 3,
  "kernelspec": {
   "name": "python3",
   "display_name": "Python 3"
  }
 },
 "cells": [
  {
   "cell_type": "code",
   "execution_count": 80,
   "metadata": {},
   "outputs": [],
   "source": [
    "from sklearn.naive_bayes import MultinomialNB\n",
    "from sklearn import metrics \n",
    "from scipy import io\n",
    "from sklearn.feature_extraction.text import CountVectorizer, TfidfVectorizer\n",
    "from sklearn.preprocessing import StandardScaler\n",
    "import numpy as np"
   ]
  },
  {
   "cell_type": "code",
   "execution_count": 81,
   "metadata": {},
   "outputs": [],
   "source": [
    "sc = StandardScaler()"
   ]
  },
  {
   "cell_type": "code",
   "execution_count": 82,
   "metadata": {},
   "outputs": [],
   "source": [
    "X_train=io.mmread(\"train.mtx\") "
   ]
  },
  {
   "cell_type": "code",
   "execution_count": 83,
   "metadata": {},
   "outputs": [],
   "source": [
    "labels_train=[]"
   ]
  },
  {
   "cell_type": "code",
   "execution_count": 84,
   "metadata": {},
   "outputs": [],
   "source": [
    "f=open(\"labels_train.txt\",\"r\")"
   ]
  },
  {
   "cell_type": "code",
   "execution_count": 85,
   "metadata": {},
   "outputs": [],
   "source": [
    "data=f.read()\n",
    "lines=data.split(\"\\n\")\n",
    "for line in lines:\n",
    "    if(line != ' '):\n",
    "        labels_train.append(line)"
   ]
  },
  {
   "cell_type": "code",
   "execution_count": 86,
   "metadata": {},
   "outputs": [],
   "source": [
    "f.close()"
   ]
  },
  {
   "cell_type": "code",
   "execution_count": 87,
   "metadata": {},
   "outputs": [],
   "source": [
    "del labels_train[-1]"
   ]
  },
  {
   "cell_type": "code",
   "execution_count": 88,
   "metadata": {},
   "outputs": [],
   "source": [
    "clf = MultinomialNB()\n",
    ""
   ]
  },
  {
   "cell_type": "code",
   "execution_count": 89,
   "metadata": {},
   "outputs": [
    {
     "output_type": "execute_result",
     "data": {
      "text/plain": "MultinomialNB(alpha=1.0, class_prior=None, fit_prior=True)"
     },
     "metadata": {},
     "execution_count": 89
    }
   ],
   "source": [
    "clf.fit(X_train, labels_train)\n",
    ""
   ]
  },
  {
   "cell_type": "code",
   "execution_count": 90,
   "metadata": {},
   "outputs": [],
   "source": [
    "X_test = io.mmread(\"test.mtx\")\n",
    ""
   ]
  },
  {
   "cell_type": "code",
   "execution_count": 91,
   "metadata": {},
   "outputs": [],
   "source": [
    "y_test = []\n",
    ""
   ]
  },
  {
   "cell_type": "code",
   "execution_count": 92,
   "metadata": {},
   "outputs": [],
   "source": [
    "f = open(\"labels_test.txt\", \"r\")\n",
    ""
   ]
  },
  {
   "cell_type": "code",
   "execution_count": 93,
   "metadata": {},
   "outputs": [],
   "source": [
    "data = f.read()\n",
    "lines = data.split(\"\\n\")\n",
    "for line in lines:\n",
    "    if( line != ' '):\n",
    "        y_test.append(line)"
   ]
  },
  {
   "cell_type": "code",
   "execution_count": 94,
   "metadata": {},
   "outputs": [],
   "source": [
    "f.close()\n",
    ""
   ]
  },
  {
   "cell_type": "code",
   "execution_count": 95,
   "metadata": {},
   "outputs": [],
   "source": [
    "del y_test[-1]\n",
    ""
   ]
  },
  {
   "cell_type": "code",
   "execution_count": 96,
   "metadata": {},
   "outputs": [
    {
     "output_type": "stream",
     "name": "stdout",
     "text": "7532\n"
    }
   ],
   "source": [
    "print(len(y_test))\n",
    ""
   ]
  },
  {
   "cell_type": "code",
   "execution_count": 97,
   "metadata": {},
   "outputs": [],
   "source": [
    "predict = clf.predict(X_test.toarray())"
   ]
  },
  {
   "cell_type": "code",
   "execution_count": 98,
   "metadata": {},
   "outputs": [
    {
     "output_type": "execute_result",
     "data": {
      "text/plain": "7532"
     },
     "metadata": {},
     "execution_count": 98
    }
   ],
   "source": [
    "len(predict)"
   ]
  },
  {
   "cell_type": "code",
   "execution_count": 99,
   "metadata": {},
   "outputs": [
    {
     "output_type": "stream",
     "name": "stdout",
     "text": "Accuracy:  0.7938130642591609\nF1_score:  0.773538498860331\nF1_score:  0.7938130642591608\n"
    }
   ],
   "source": [
    "print(\"Accuracy: \", metrics.accuracy_score(y_test, predict))\n",
    "print(\"F1_score: \", metrics.f1_score(y_test, predict, average='macro'))\n",
    "print(\"F1_score: \", metrics.f1_score(y_test, predict, average='micro'))"
   ]
  },
  {
   "cell_type": "code",
   "execution_count": 100,
   "metadata": {},
   "outputs": [
    {
     "output_type": "stream",
     "name": "stdout",
     "text": "Classification :                precision    recall  f1-score   support\n\n           0       0.65      0.94      0.77       364\n           1       0.78      0.93      0.85       396\n          10       0.77      0.82      0.79       395\n          11       0.96      0.96      0.96       399\n          12       0.94      0.92      0.93       398\n          13       0.63      0.79      0.70       392\n          14       0.88      0.90      0.89       396\n          15       0.95      0.45      0.61       310\n          16       0.82      0.82      0.82       385\n          17       0.72      0.65      0.68       389\n          18       0.98      0.16      0.28       251\n          19       0.79      0.65      0.71       393\n           2       0.87      0.82      0.84       396\n           3       0.81      0.57      0.67       319\n           4       0.74      0.69      0.72       394\n           5       0.92      0.94      0.93       397\n           6       0.88      0.78      0.83       390\n           7       0.91      0.91      0.91       376\n           8       0.89      0.89      0.89       394\n           9       0.55      0.95      0.69       398\n\n    accuracy                           0.79      7532\n   macro avg       0.82      0.78      0.77      7532\nweighted avg       0.82      0.79      0.79      7532\n\n"
    }
   ],
   "source": [
    "print(\"Classification : \", metrics.classification_report(y_test, predict))\n",
    ""
   ]
  },
  {
   "cell_type": "code",
   "execution_count": null,
   "metadata": {},
   "outputs": [],
   "source": []
  }
 ]
}