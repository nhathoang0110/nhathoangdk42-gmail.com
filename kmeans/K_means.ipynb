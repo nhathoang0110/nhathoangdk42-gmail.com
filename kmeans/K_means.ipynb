{
 "cells": [
  {
   "cell_type": "code",
   "execution_count": 20,
   "metadata": {},
   "outputs": [],
   "source": [
    "from sklearn.cluster import KMeans \n",
    "from sklearn.feature_extraction.text import TfidfVectorizer \n",
    "from scipy import io\n",
    "from sklearn import metrics\n",
    "import numpy as np"
   ]
  },
  {
   "cell_type": "code",
   "execution_count": 5,
   "metadata": {},
   "outputs": [],
   "source": [
    "X_train = io.mmread(\"train.mtx\")\n"
   ]
  },
  {
   "cell_type": "code",
   "execution_count": 6,
   "metadata": {},
   "outputs": [],
   "source": [
    "labels_true = []\n"
   ]
  },
  {
   "cell_type": "code",
   "execution_count": 7,
   "metadata": {},
   "outputs": [],
   "source": [
    "f = open(\"labels_train.txt\", \"r\")\n"
   ]
  },
  {
   "cell_type": "code",
   "execution_count": 8,
   "metadata": {},
   "outputs": [],
   "source": [
    "labels_true = [] \n",
    "data = f.read()\n",
    "lines = data.split(\"\\n\")\n",
    "for line in lines:\n",
    "    #line = line.rstrip()\n",
    "    #print(line)\n",
    "    if( line != ' '):\n",
    "        labels_true.append(line)"
   ]
  },
  {
   "cell_type": "code",
   "execution_count": 9,
   "metadata": {},
   "outputs": [],
   "source": [
    "f.close()\n"
   ]
  },
  {
   "cell_type": "code",
   "execution_count": 10,
   "metadata": {},
   "outputs": [],
   "source": [
    "del labels_true[-1]"
   ]
  },
  {
   "cell_type": "code",
   "execution_count": 11,
   "metadata": {},
   "outputs": [
    {
     "output_type": "stream",
     "name": "stdout",
     "text": "Khoi tao KMeans\nChay Kmeans\n"
    },
    {
     "output_type": "execute_result",
     "data": {
      "text/plain": "KMeans(algorithm='auto', copy_x=True, init='k-means++', max_iter=100,\n       n_clusters=20, n_init=1, n_jobs=None, precompute_distances='auto',\n       random_state=None, tol=0.0001, verbose=0)"
     },
     "metadata": {},
     "execution_count": 11
    }
   ],
   "source": [
    "\n",
    "print(\"Khoi tao KMeans\")\n",
    "model = KMeans(n_clusters = 20, init='k-means++', max_iter = 100, n_init = 1)\n",
    "\n",
    "print(\"Chay Kmeans\")\n",
    "model.fit(X_train)"
   ]
  },
  {
   "cell_type": "code",
   "execution_count": 12,
   "metadata": {},
   "outputs": [],
   "source": [
    "pre = model.labels_"
   ]
  },
  {
   "cell_type": "code",
   "execution_count": 13,
   "metadata": {},
   "outputs": [],
   "source": [
    "labels = labels_true"
   ]
  },
  {
   "cell_type": "code",
   "execution_count": 14,
   "metadata": {},
   "outputs": [
    {
     "output_type": "execute_result",
     "data": {
      "text/plain": "11314"
     },
     "metadata": {},
     "execution_count": 14
    }
   ],
   "source": [
    "len(labels)"
   ]
  },
  {
   "cell_type": "code",
   "execution_count": 15,
   "metadata": {},
   "outputs": [
    {
     "output_type": "execute_result",
     "data": {
      "text/plain": "11314"
     },
     "metadata": {},
     "execution_count": 15
    }
   ],
   "source": [
    "len(pre)"
   ]
  },
  {
   "cell_type": "code",
   "execution_count": 13,
   "metadata": {},
   "outputs": [
    {
     "output_type": "stream",
     "name": "stdout",
     "text": "Homogeneity: \n0.4594171397436077\nCompleteness: \n0.4955940949198027\nAdjusted Rand Index: \n0.2531202489351688\n"
    }
   ],
   "source": [
    "# Homogeneity : tính đồng nhất\n",
    "print(\"Homogeneity: \")\n",
    "print(metrics.homogeneity_score(labels, pre))\n",
    "\n",
    "# Completeness : tính đầy đủ\n",
    "print(\"Completeness: \")\n",
    "print(metrics.completeness_score(labels, pre))\n",
    "\n",
    "# Adjusted Rand Index: điều chỉnh Rand-Index\n",
    "print(\"Adjusted Rand Index: \")\n",
    "print(metrics.adjusted_rand_score(labels, pre))"
   ]
  },
  {
   "cell_type": "code",
   "execution_count": null,
   "metadata": {},
   "outputs": [],
   "source": []
  },
  {
   "cell_type": "code",
   "execution_count": 14,
   "metadata": {},
   "outputs": [
    {
     "output_type": "stream",
     "name": "stdout",
     "text": "Khoi tao KMeans\nChay Kmeans\nHomogeneity: \n0.42769503846829926\nCompleteness: \n0.47446607799540286\nAdjusted Rand Index: \n0.23404687533954055\n"
    }
   ],
   "source": [
    "print(\"Khoi tao KMeans\")\n",
    "model = KMeans(n_clusters = 20, init='k-means++', max_iter = 100, n_init = 2)\n",
    "\n",
    "print(\"Chay Kmeans\")\n",
    "model.fit(X_train)\n",
    "\n",
    "pre = model.labels_\n",
    "\n",
    "# Homogeneity : tính đồng nhất\n",
    "print(\"Homogeneity: \")\n",
    "print(metrics.homogeneity_score(labels, pre))\n",
    "\n",
    "# Completeness : tính đầy đủ\n",
    "print(\"Completeness: \")\n",
    "print(metrics.completeness_score(labels, pre))\n",
    "\n",
    "# Adjusted Rand Index: điều chỉnh Rand-Index\n",
    "print(\"Adjusted Rand Index: \")\n",
    "print(metrics.adjusted_rand_score(labels, pre))"
   ]
  },
  {
   "cell_type": "code",
   "execution_count": 15,
   "metadata": {},
   "outputs": [
    {
     "output_type": "stream",
     "name": "stdout",
     "text": "Khoi tao KMeans\nChay Kmeans\nHomogeneity: \n0.41490071918139404\nCompleteness: \n0.4621882886223627\nAdjusted Rand Index: \n0.21795175898772454\n"
    }
   ],
   "source": [
    "print(\"Khoi tao KMeans\")\n",
    "model = KMeans(n_clusters = 20, init='k-means++', max_iter = 100, n_init = 3)\n",
    "\n",
    "print(\"Chay Kmeans\")\n",
    "model.fit(X_train)\n",
    "\n",
    "pre = model.labels_\n",
    "\n",
    "# Homogeneity : tính đồng nhất\n",
    "print(\"Homogeneity: \")\n",
    "print(metrics.homogeneity_score(labels, pre))\n",
    "\n",
    "# Completeness : tính đầy đủ\n",
    "print(\"Completeness: \")\n",
    "print(metrics.completeness_score(labels, pre))\n",
    "\n",
    "# Adjusted Rand Index: điều chỉnh Rand-Index\n",
    "print(\"Adjusted Rand Index: \")\n",
    "print(metrics.adjusted_rand_score(labels, pre))"
   ]
  },
  {
   "cell_type": "code",
   "execution_count": 16,
   "metadata": {},
   "outputs": [
    {
     "output_type": "stream",
     "name": "stdout",
     "text": "Khoi tao KMeans\nChay Kmeans\nHomogeneity: \n0.44627813740287603\nCompleteness: \n0.4986804939166308\nAdjusted Rand Index: \n0.2399876685826203\n"
    }
   ],
   "source": [
    "print(\"Khoi tao KMeans\")\n",
    "model = KMeans(n_clusters = 20, init='k-means++', max_iter = 100, n_init = 4)\n",
    "\n",
    "print(\"Chay Kmeans\")\n",
    "model.fit(X_train)\n",
    "\n",
    "pre = model.labels_\n",
    "\n",
    "# Homogeneity : tính đồng nhất\n",
    "print(\"Homogeneity: \")\n",
    "print(metrics.homogeneity_score(labels, pre))\n",
    "\n",
    "# Completeness : tính đầy đủ\n",
    "print(\"Completeness: \")\n",
    "print(metrics.completeness_score(labels, pre))\n",
    "\n",
    "# Adjusted Rand Index: điều chỉnh Rand-Index\n",
    "print(\"Adjusted Rand Index: \")\n",
    "print(metrics.adjusted_rand_score(labels, pre))\n"
   ]
  },
  {
   "cell_type": "code",
   "execution_count": 17,
   "metadata": {},
   "outputs": [
    {
     "output_type": "stream",
     "name": "stdout",
     "text": "Khoi tao KMeans\nChay Kmeans\nHomogeneity: \n0.44270173105543104\nCompleteness: \n0.48939384478827613\nAdjusted Rand Index: \n0.26342399968382024\n"
    }
   ],
   "source": [
    "print(\"Khoi tao KMeans\")\n",
    "model = KMeans(n_clusters = 20, init='k-means++', max_iter = 200, n_init = 1)\n",
    "\n",
    "print(\"Chay Kmeans\")\n",
    "model.fit(X_train)\n",
    "\n",
    "pre = model.labels_\n",
    "\n",
    "# Homogeneity : tính đồng nhất\n",
    "print(\"Homogeneity: \")\n",
    "print(metrics.homogeneity_score(labels, pre))\n",
    "\n",
    "# Completeness : tính đầy đủ\n",
    "print(\"Completeness: \")\n",
    "print(metrics.completeness_score(labels, pre))\n",
    "\n",
    "# Adjusted Rand Index: điều chỉnh Rand-Index\n",
    "print(\"Adjusted Rand Index: \")\n",
    "print(metrics.adjusted_rand_score(labels, pre))\n"
   ]
  },
  {
   "cell_type": "code",
   "execution_count": 18,
   "metadata": {},
   "outputs": [
    {
     "output_type": "stream",
     "name": "stdout",
     "text": "Khoi tao KMeans\nChay Kmeans\nHomogeneity: \n0.47294467402972473\nCompleteness: \n0.515103640613047\nAdjusted Rand Index: \n0.2807332130572018\n"
    }
   ],
   "source": [
    "print(\"Khoi tao KMeans\")\n",
    "model = KMeans(n_clusters = 20, init='k-means++', max_iter = 200, n_init = 3)\n",
    "\n",
    "print(\"Chay Kmeans\")\n",
    "model.fit(X_train)\n",
    "\n",
    "pre = model.labels_\n",
    "\n",
    "# Homogeneity : tính đồng nhất\n",
    "print(\"Homogeneity: \")\n",
    "print(metrics.homogeneity_score(labels, pre))\n",
    "\n",
    "# Completeness : tính đầy đủ\n",
    "print(\"Completeness: \")\n",
    "print(metrics.completeness_score(labels, pre))\n",
    "\n",
    "# Adjusted Rand Index: điều chỉnh Rand-Index\n",
    "print(\"Adjusted Rand Index: \")\n",
    "print(metrics.adjusted_rand_score(labels, pre))"
   ]
  },
  {
   "cell_type": "code",
   "execution_count": 19,
   "metadata": {},
   "outputs": [
    {
     "output_type": "stream",
     "name": "stdout",
     "text": "Khoi tao KMeans\nChay Kmeans\nHomogeneity: \n0.4722096214312219\nCompleteness: \n0.5080980675521533\nAdjusted Rand Index: \n0.2855010466224545\n"
    }
   ],
   "source": [
    "print(\"Khoi tao KMeans\")\n",
    "model = KMeans(n_clusters = 20, init='k-means++', max_iter = 300, n_init = 5)\n",
    "\n",
    "print(\"Chay Kmeans\")\n",
    "model.fit(X_train)\n",
    "\n",
    "pre = model.labels_\n",
    "\n",
    "# Homogeneity : tính đồng nhất\n",
    "print(\"Homogeneity: \")\n",
    "print(metrics.homogeneity_score(labels, pre))\n",
    "\n",
    "# Completeness : tính đầy đủ\n",
    "print(\"Completeness: \")\n",
    "print(metrics.completeness_score(labels, pre))\n",
    "\n",
    "# Adjusted Rand Index: điều chỉnh Rand-Index\n",
    "print(\"Adjusted Rand Index: \")\n",
    "print(metrics.adjusted_rand_score(labels, pre))"
   ]
  },
  {
   "cell_type": "code",
   "execution_count": null,
   "metadata": {},
   "outputs": [],
   "source": []
  }
 ],
 "metadata": {
  "language_info": {
   "codemirror_mode": {
    "name": "ipython",
    "version": 3
   },
   "file_extension": ".py",
   "mimetype": "text/x-python",
   "name": "python",
   "nbconvert_exporter": "python",
   "pygments_lexer": "ipython3",
   "version": "3.8.1-final"
  },
  "orig_nbformat": 2,
  "kernelspec": {
   "name": "python3",
   "display_name": "Python 3"
  }
 },
 "nbformat": 4,
 "nbformat_minor": 2
}